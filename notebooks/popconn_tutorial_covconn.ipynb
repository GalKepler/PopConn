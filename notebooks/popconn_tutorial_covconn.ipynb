{
 "cells": [
  {
   "cell_type": "markdown",
   "id": "1fae1e79",
   "metadata": {},
   "source": [
    "# 🧠 PopConn: CovConn Class Tutorial\n",
    "\n",
    "This notebook demonstrates how to use the `CovConn` class for computing population-level covariance connectomes and comparing between groups."
   ]
  },
  {
   "cell_type": "code",
   "execution_count": 1,
   "id": "9f5556b4",
   "metadata": {},
   "outputs": [],
   "source": [
    "import pandas as pd\n",
    "from popconn.core import CovConn"
   ]
  },
  {
   "cell_type": "markdown",
   "id": "3e41e0d4",
   "metadata": {},
   "source": [
    "## 📄 Simulate Long-Format Data"
   ]
  },
  {
   "cell_type": "code",
   "execution_count": 6,
   "id": "67bd181a",
   "metadata": {},
   "outputs": [
    {
     "data": {
      "application/vnd.microsoft.datawrangler.viewer.v0+json": {
       "columns": [
        {
         "name": "index",
         "rawType": "int64",
         "type": "integer"
        },
        {
         "name": "subject_id",
         "rawType": "object",
         "type": "string"
        },
        {
         "name": "region",
         "rawType": "object",
         "type": "string"
        },
        {
         "name": "value",
         "rawType": "float64",
         "type": "float"
        },
        {
         "name": "group",
         "rawType": "object",
         "type": "string"
        }
       ],
       "conversionMethod": "pd.DataFrame",
       "ref": "09ebc50d-46e6-4eb4-97df-cd25bebbf79c",
       "rows": [
        [
         "0",
         "s1",
         "A",
         "1.0",
         "young"
        ],
        [
         "1",
         "s1",
         "B",
         "2.0",
         "young"
        ],
        [
         "2",
         "s1",
         "C",
         "3.0",
         "young"
        ],
        [
         "3",
         "s2",
         "A",
         "1.2",
         "young"
        ],
        [
         "4",
         "s2",
         "B",
         "2.1",
         "young"
        ]
       ],
       "shape": {
        "columns": 4,
        "rows": 5
       }
      },
      "text/html": [
       "<div>\n",
       "<style scoped>\n",
       "    .dataframe tbody tr th:only-of-type {\n",
       "        vertical-align: middle;\n",
       "    }\n",
       "\n",
       "    .dataframe tbody tr th {\n",
       "        vertical-align: top;\n",
       "    }\n",
       "\n",
       "    .dataframe thead th {\n",
       "        text-align: right;\n",
       "    }\n",
       "</style>\n",
       "<table border=\"1\" class=\"dataframe\">\n",
       "  <thead>\n",
       "    <tr style=\"text-align: right;\">\n",
       "      <th></th>\n",
       "      <th>subject_id</th>\n",
       "      <th>region</th>\n",
       "      <th>value</th>\n",
       "      <th>group</th>\n",
       "    </tr>\n",
       "  </thead>\n",
       "  <tbody>\n",
       "    <tr>\n",
       "      <th>0</th>\n",
       "      <td>s1</td>\n",
       "      <td>A</td>\n",
       "      <td>1.0</td>\n",
       "      <td>young</td>\n",
       "    </tr>\n",
       "    <tr>\n",
       "      <th>1</th>\n",
       "      <td>s1</td>\n",
       "      <td>B</td>\n",
       "      <td>2.0</td>\n",
       "      <td>young</td>\n",
       "    </tr>\n",
       "    <tr>\n",
       "      <th>2</th>\n",
       "      <td>s1</td>\n",
       "      <td>C</td>\n",
       "      <td>3.0</td>\n",
       "      <td>young</td>\n",
       "    </tr>\n",
       "    <tr>\n",
       "      <th>3</th>\n",
       "      <td>s2</td>\n",
       "      <td>A</td>\n",
       "      <td>1.2</td>\n",
       "      <td>young</td>\n",
       "    </tr>\n",
       "    <tr>\n",
       "      <th>4</th>\n",
       "      <td>s2</td>\n",
       "      <td>B</td>\n",
       "      <td>2.1</td>\n",
       "      <td>young</td>\n",
       "    </tr>\n",
       "  </tbody>\n",
       "</table>\n",
       "</div>"
      ],
      "text/plain": [
       "  subject_id region  value  group\n",
       "0         s1      A    1.0  young\n",
       "1         s1      B    2.0  young\n",
       "2         s1      C    3.0  young\n",
       "3         s2      A    1.2  young\n",
       "4         s2      B    2.1  young"
      ]
     },
     "execution_count": 6,
     "metadata": {},
     "output_type": "execute_result"
    }
   ],
   "source": [
    "df_long = pd.DataFrame({\n",
    "    'subject_id': ['s1']*3 + ['s2']*3 + ['s3']*3 + ['s4']*3 + ['s5']*3 + ['s6']*3,\n",
    "    'region': ['A', 'B', 'C'] * 6,\n",
    "    'value': [1, 2, 3, 1.2, 2.1, 2.9, 0.8, 1.9, 2.7, 1.1, 1.8, 3.1, 1.3, 2.3, 2.8, 1.0, 2.0, 3.0],\n",
    "    'group': ['young']*9 + ['old']*9\n",
    "})\n",
    "df_long.head()"
   ]
  },
  {
   "cell_type": "markdown",
   "id": "1123f541",
   "metadata": {},
   "source": [
    "## 🧠 Create a CovConn Object and Compute Covariance"
   ]
  },
  {
   "cell_type": "code",
   "execution_count": null,
   "id": "911f7bbd",
   "metadata": {},
   "outputs": [
    {
     "data": {
      "application/vnd.microsoft.datawrangler.viewer.v0+json": {
       "columns": [
        {
         "name": "region",
         "rawType": "object",
         "type": "string"
        },
        {
         "name": "A",
         "rawType": "float64",
         "type": "float"
        },
        {
         "name": "B",
         "rawType": "float64",
         "type": "float"
        },
        {
         "name": "C",
         "rawType": "float64",
         "type": "float"
        }
       ],
       "conversionMethod": "pd.DataFrame",
       "ref": "c86ff905-e3ac-4104-b47e-7d2f81e6d477",
       "rows": [
        [
         "A",
         "1.0",
         "0.6851769942389302",
         "0.18104121003915433"
        ],
        [
         "B",
         "0.6851769942389302",
         "1.0",
         "-0.40757732270630914"
        ],
        [
         "C",
         "0.18104121003915433",
         "-0.40757732270630914",
         "1.0"
        ]
       ],
       "shape": {
        "columns": 3,
        "rows": 3
       }
      },
      "text/html": [
       "<div>\n",
       "<style scoped>\n",
       "    .dataframe tbody tr th:only-of-type {\n",
       "        vertical-align: middle;\n",
       "    }\n",
       "\n",
       "    .dataframe tbody tr th {\n",
       "        vertical-align: top;\n",
       "    }\n",
       "\n",
       "    .dataframe thead th {\n",
       "        text-align: right;\n",
       "    }\n",
       "</style>\n",
       "<table border=\"1\" class=\"dataframe\">\n",
       "  <thead>\n",
       "    <tr style=\"text-align: right;\">\n",
       "      <th>region</th>\n",
       "      <th>A</th>\n",
       "      <th>B</th>\n",
       "      <th>C</th>\n",
       "    </tr>\n",
       "    <tr>\n",
       "      <th>region</th>\n",
       "      <th></th>\n",
       "      <th></th>\n",
       "      <th></th>\n",
       "    </tr>\n",
       "  </thead>\n",
       "  <tbody>\n",
       "    <tr>\n",
       "      <th>A</th>\n",
       "      <td>1.000000</td>\n",
       "      <td>0.685177</td>\n",
       "      <td>0.181041</td>\n",
       "    </tr>\n",
       "    <tr>\n",
       "      <th>B</th>\n",
       "      <td>0.685177</td>\n",
       "      <td>1.000000</td>\n",
       "      <td>-0.407577</td>\n",
       "    </tr>\n",
       "    <tr>\n",
       "      <th>C</th>\n",
       "      <td>0.181041</td>\n",
       "      <td>-0.407577</td>\n",
       "      <td>1.000000</td>\n",
       "    </tr>\n",
       "  </tbody>\n",
       "</table>\n",
       "</div>"
      ],
      "text/plain": [
       "region         A         B         C\n",
       "region                              \n",
       "A       1.000000  0.685177  0.181041\n",
       "B       0.685177  1.000000 -0.407577\n",
       "C       0.181041 -0.407577  1.000000"
      ]
     },
     "execution_count": 9,
     "metadata": {},
     "output_type": "execute_result"
    },
    {
     "ename": "",
     "evalue": "",
     "output_type": "error",
     "traceback": [
      "\u001b[1;31mThe Kernel crashed while executing code in the current cell or a previous cell. \n",
      "\u001b[1;31mPlease review the code in the cell(s) to identify a possible cause of the failure. \n",
      "\u001b[1;31mClick <a href='https://aka.ms/vscodeJupyterKernelCrash'>here</a> for more info. \n",
      "\u001b[1;31mView Jupyter <a href='command:jupyter.viewOutput'>log</a> for further details."
     ]
    }
   ],
   "source": [
    "conn = CovConn(\n",
    "    data=df_long,\n",
    "    long_format=True,\n",
    "    subject_col='subject_id',\n",
    "    region_col='region',\n",
    "    value_col='value'\n",
    ")\n",
    "cov_matrix = conn.compute_covariance(method='pearson')\n",
    "cov_matrix"
   ]
  }
 ],
 "metadata": {
  "kernelspec": {
   "display_name": ".venv",
   "language": "python",
   "name": "python3"
  },
  "language_info": {
   "codemirror_mode": {
    "name": "ipython",
    "version": 3
   },
   "file_extension": ".py",
   "mimetype": "text/x-python",
   "name": "python",
   "nbconvert_exporter": "python",
   "pygments_lexer": "ipython3",
   "version": "3.12.3"
  }
 },
 "nbformat": 4,
 "nbformat_minor": 5
}
