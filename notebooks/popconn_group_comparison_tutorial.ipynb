{
 "cells": [
  {
   "cell_type": "markdown",
   "id": "18038cdc",
   "metadata": {},
   "source": [
    "# 🧠 PopConn Tutorial: Group Comparison\n",
    "\n",
    "This notebook demonstrates how to use the `GroupComparator` class to statistically compare population-level covariance matrices between two groups using permutation testing."
   ]
  },
  {
   "cell_type": "code",
   "execution_count": 1,
   "id": "9d32e746",
   "metadata": {},
   "outputs": [],
   "source": [
    "import pandas as pd\n",
    "from popconn.stats.comparator import GroupComparator\n",
    "from popconn.stats.metrics import correlation_matrix_difference"
   ]
  },
  {
   "cell_type": "markdown",
   "id": "183a8823",
   "metadata": {},
   "source": [
    "## 📄 Simulate Long-Format Dataset with Group Labels"
   ]
  },
  {
   "cell_type": "code",
   "execution_count": 2,
   "id": "f9d9ee8e",
   "metadata": {},
   "outputs": [
    {
     "data": {
      "application/vnd.microsoft.datawrangler.viewer.v0+json": {
       "columns": [
        {
         "name": "index",
         "rawType": "int64",
         "type": "integer"
        },
        {
         "name": "subject_id",
         "rawType": "object",
         "type": "string"
        },
        {
         "name": "region",
         "rawType": "object",
         "type": "string"
        },
        {
         "name": "value",
         "rawType": "float64",
         "type": "float"
        },
        {
         "name": "group",
         "rawType": "object",
         "type": "string"
        }
       ],
       "conversionMethod": "pd.DataFrame",
       "ref": "429f140f-6d36-475a-b343-aaeb3922cd44",
       "rows": [
        [
         "0",
         "s1",
         "A",
         "1.0",
         "young"
        ],
        [
         "1",
         "s1",
         "B",
         "2.0",
         "young"
        ],
        [
         "2",
         "s1",
         "C",
         "3.0",
         "young"
        ],
        [
         "3",
         "s2",
         "A",
         "1.2",
         "young"
        ],
        [
         "4",
         "s2",
         "B",
         "2.1",
         "young"
        ]
       ],
       "shape": {
        "columns": 4,
        "rows": 5
       }
      },
      "text/html": [
       "<div>\n",
       "<style scoped>\n",
       "    .dataframe tbody tr th:only-of-type {\n",
       "        vertical-align: middle;\n",
       "    }\n",
       "\n",
       "    .dataframe tbody tr th {\n",
       "        vertical-align: top;\n",
       "    }\n",
       "\n",
       "    .dataframe thead th {\n",
       "        text-align: right;\n",
       "    }\n",
       "</style>\n",
       "<table border=\"1\" class=\"dataframe\">\n",
       "  <thead>\n",
       "    <tr style=\"text-align: right;\">\n",
       "      <th></th>\n",
       "      <th>subject_id</th>\n",
       "      <th>region</th>\n",
       "      <th>value</th>\n",
       "      <th>group</th>\n",
       "    </tr>\n",
       "  </thead>\n",
       "  <tbody>\n",
       "    <tr>\n",
       "      <th>0</th>\n",
       "      <td>s1</td>\n",
       "      <td>A</td>\n",
       "      <td>1.0</td>\n",
       "      <td>young</td>\n",
       "    </tr>\n",
       "    <tr>\n",
       "      <th>1</th>\n",
       "      <td>s1</td>\n",
       "      <td>B</td>\n",
       "      <td>2.0</td>\n",
       "      <td>young</td>\n",
       "    </tr>\n",
       "    <tr>\n",
       "      <th>2</th>\n",
       "      <td>s1</td>\n",
       "      <td>C</td>\n",
       "      <td>3.0</td>\n",
       "      <td>young</td>\n",
       "    </tr>\n",
       "    <tr>\n",
       "      <th>3</th>\n",
       "      <td>s2</td>\n",
       "      <td>A</td>\n",
       "      <td>1.2</td>\n",
       "      <td>young</td>\n",
       "    </tr>\n",
       "    <tr>\n",
       "      <th>4</th>\n",
       "      <td>s2</td>\n",
       "      <td>B</td>\n",
       "      <td>2.1</td>\n",
       "      <td>young</td>\n",
       "    </tr>\n",
       "  </tbody>\n",
       "</table>\n",
       "</div>"
      ],
      "text/plain": [
       "  subject_id region  value  group\n",
       "0         s1      A    1.0  young\n",
       "1         s1      B    2.0  young\n",
       "2         s1      C    3.0  young\n",
       "3         s2      A    1.2  young\n",
       "4         s2      B    2.1  young"
      ]
     },
     "execution_count": 2,
     "metadata": {},
     "output_type": "execute_result"
    }
   ],
   "source": [
    "df_long = pd.DataFrame({\n",
    "    'subject_id': ['s1']*3 + ['s2']*3 + ['s3']*3 + ['s4']*3 + ['s5']*3 + ['s6']*3,\n",
    "    'region': ['A', 'B', 'C'] * 6,\n",
    "    'value': [1, 2, 3, 1.2, 2.1, 2.9, 0.8, 1.9, 2.7, 1.1, 1.8, 3.1, 1.3, 2.3, 2.8, 1.0, 2.0, 3.0],\n",
    "    'group': ['young']*9 + ['old']*9\n",
    "})\n",
    "df_long.head()"
   ]
  },
  {
   "cell_type": "markdown",
   "id": "408232a5",
   "metadata": {},
   "source": [
    "## 🧪 Compare Groups Using GroupComparator"
   ]
  },
  {
   "cell_type": "code",
   "execution_count": 3,
   "id": "fadbe06b",
   "metadata": {},
   "outputs": [
    {
     "data": {
      "application/vnd.microsoft.datawrangler.viewer.v0+json": {
       "columns": [
        {
         "name": "region",
         "rawType": "object",
         "type": "string"
        },
        {
         "name": "A",
         "rawType": "float64",
         "type": "float"
        },
        {
         "name": "B",
         "rawType": "float64",
         "type": "float"
        },
        {
         "name": "C",
         "rawType": "float64",
         "type": "float"
        }
       ],
       "conversionMethod": "pd.DataFrame",
       "ref": "2fda1b65-07e1-4578-a486-72159e7ad29d",
       "rows": [
        [
         "A",
         "0.0",
         "0.2629565259044989",
         "1.4403679564222613"
        ],
        [
         "B",
         "0.2629565259044989",
         "0.0",
         "1.6518301356607135"
        ],
        [
         "C",
         "1.4403679564222613",
         "1.6518301356607135",
         "0.0"
        ]
       ],
       "shape": {
        "columns": 3,
        "rows": 3
       }
      },
      "text/html": [
       "<div>\n",
       "<style scoped>\n",
       "    .dataframe tbody tr th:only-of-type {\n",
       "        vertical-align: middle;\n",
       "    }\n",
       "\n",
       "    .dataframe tbody tr th {\n",
       "        vertical-align: top;\n",
       "    }\n",
       "\n",
       "    .dataframe thead th {\n",
       "        text-align: right;\n",
       "    }\n",
       "</style>\n",
       "<table border=\"1\" class=\"dataframe\">\n",
       "  <thead>\n",
       "    <tr style=\"text-align: right;\">\n",
       "      <th>region</th>\n",
       "      <th>A</th>\n",
       "      <th>B</th>\n",
       "      <th>C</th>\n",
       "    </tr>\n",
       "    <tr>\n",
       "      <th>region</th>\n",
       "      <th></th>\n",
       "      <th></th>\n",
       "      <th></th>\n",
       "    </tr>\n",
       "  </thead>\n",
       "  <tbody>\n",
       "    <tr>\n",
       "      <th>A</th>\n",
       "      <td>0.000000</td>\n",
       "      <td>0.262957</td>\n",
       "      <td>1.440368</td>\n",
       "    </tr>\n",
       "    <tr>\n",
       "      <th>B</th>\n",
       "      <td>0.262957</td>\n",
       "      <td>0.000000</td>\n",
       "      <td>1.651830</td>\n",
       "    </tr>\n",
       "    <tr>\n",
       "      <th>C</th>\n",
       "      <td>1.440368</td>\n",
       "      <td>1.651830</td>\n",
       "      <td>0.000000</td>\n",
       "    </tr>\n",
       "  </tbody>\n",
       "</table>\n",
       "</div>"
      ],
      "text/plain": [
       "region         A         B         C\n",
       "region                              \n",
       "A       0.000000  0.262957  1.440368\n",
       "B       0.262957  0.000000  1.651830\n",
       "C       1.440368  1.651830  0.000000"
      ]
     },
     "execution_count": 3,
     "metadata": {},
     "output_type": "execute_result"
    }
   ],
   "source": [
    "comparator = GroupComparator(\n",
    "    data=df_long,\n",
    "    group_col='group',\n",
    "    long_format=True,\n",
    "    subject_col='subject_id',\n",
    "    region_col='region',\n",
    "    value_col='value'\n",
    ")\n",
    "results = comparator.run_permutation_test(\n",
    "    stat_func=correlation_matrix_difference,\n",
    "    n_permutations=100,\n",
    "    return_distribution=True\n",
    ")\n",
    "results['observed']"
   ]
  }
 ],
 "metadata": {
  "kernelspec": {
   "display_name": ".venv",
   "language": "python",
   "name": "python3"
  },
  "language_info": {
   "codemirror_mode": {
    "name": "ipython",
    "version": 3
   },
   "file_extension": ".py",
   "mimetype": "text/x-python",
   "name": "python",
   "nbconvert_exporter": "python",
   "pygments_lexer": "ipython3",
   "version": "3.12.3"
  }
 },
 "nbformat": 4,
 "nbformat_minor": 5
}
